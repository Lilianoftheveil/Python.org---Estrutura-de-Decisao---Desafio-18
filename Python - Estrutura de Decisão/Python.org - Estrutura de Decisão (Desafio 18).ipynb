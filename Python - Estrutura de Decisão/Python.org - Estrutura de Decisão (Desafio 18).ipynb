{
 "cells": [
  {
   "cell_type": "code",
   "execution_count": null,
   "id": "f704985c",
   "metadata": {},
   "outputs": [],
   "source": [
    "Python - Lista de Exercícios (Estrutura de Decisão) \n",
    "link: https://wiki.python.org.br/EstruturaDeDecisao"
   ]
  },
  {
   "cell_type": "markdown",
   "id": "0788cfd9",
   "metadata": {},
   "source": [
    "18) Faça um Programa que peça uma data no formato dd/mm/aaaa e determine se a mesma é uma data válida."
   ]
  },
  {
   "cell_type": "code",
   "execution_count": null,
   "id": "6d7cf684",
   "metadata": {},
   "outputs": [],
   "source": [
    "Obs.: Visando desenvolver o programa de forma mais dinâmica e menos suscetível a erros, adicionei \n",
    "outras estruturas no corpo do código. De modo que apenas números inteiros (positivos) sejam aceitos\n",
    "durante sua execução."
   ]
  },
  {
   "cell_type": "code",
   "execution_count": null,
   "id": "eb6d47b6",
   "metadata": {},
   "outputs": [],
   "source": [
    "while True:\n",
    "  x = input(\"Digite uma data no seguinte formato dd/mm/aaaa: \")\n",
    "  try:\n",
    "    a = int(x[0:2])\n",
    "    b = int (x[3:5])\n",
    "    c = int(x[6:10])\n",
    "    break\n",
    "  except:\n",
    "    print(\"Por favor, digite uma data seguindo o formato pedido.\")\n",
    "\n",
    "M = [1, 3, 5, 7, 8, 10, 12] #31 dias\n",
    "m = [4, 6, 9, 11] #30 dias\n",
    "f = [2] # 28 - 29 dias\n",
    "\n",
    "if b in M and a > 0 and a <= 31:\n",
    "  print(\"Válido\")\n",
    "elif b in m and a > 0 and a <= 30:\n",
    "  print(\"Válido\")\n",
    "elif b in f and a > 29:\n",
    "  print(\"Inválido. Fevereiro não pode possuir mais que 29 dias.\")\n",
    "elif c % 4 == 0 and c % 100 != 0 or c % 400 == 0 and a == 29 and b == 2:\n",
    "  print(\"Válido\")\n",
    "elif c % 4 != 0 and c % 100 == 0 or c % 400 != 0 and a == 29 and b == 2:\n",
    "  print(\"Inválido, o ano digitado não é bissexto. Portanto, o dia não poderia ser igual a 29.\")\n",
    "else:\n",
    "  print(\"Inválido\")"
   ]
  }
 ],
 "metadata": {
  "kernelspec": {
   "display_name": "Python 3 (ipykernel)",
   "language": "python",
   "name": "python3"
  },
  "language_info": {
   "codemirror_mode": {
    "name": "ipython",
    "version": 3
   },
   "file_extension": ".py",
   "mimetype": "text/x-python",
   "name": "python",
   "nbconvert_exporter": "python",
   "pygments_lexer": "ipython3",
   "version": "3.8.10"
  }
 },
 "nbformat": 4,
 "nbformat_minor": 5
}
